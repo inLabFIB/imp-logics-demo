{
 "cells": [
  {
   "cell_type": "markdown",
   "id": "bdb5edde-fd8b-4808-8296-d3a5e3c74507",
   "metadata": {},
   "source": [
    "# IMP-Logics DEMO\n",
    "\n",
    "This is the demo of IMP-Logics, [a freely available java library](https://github.com/inLabFIB/imp-logics), implementing the metamodels of Datalog schemas, and Dependency schemas (i.e., Datalog+/-)\n",
    "\n",
    "Full demo code can be found [here](https://github.com/inLabFIB/imp-logics-demo/)"
   ]
  },
  {
   "cell_type": "markdown",
   "id": "ca9ad324-3d04-4388-bbb8-478a53c2c0d7",
   "metadata": {
    "jp-MarkdownHeadingCollapsed": true
   },
   "source": [
    "## Loading Project Dependencies\n",
    "Please, run this scripts to load all the dependencies and auxiliar functions to run the demo"
   ]
  },
  {
   "cell_type": "code",
   "execution_count": 75,
   "id": "8a3126b9-6f5b-41fc-afec-c30e4c216584",
   "metadata": {
    "is_executing": true
   },
   "outputs": [],
   "source": [
    "%%loadFromPOM\n",
    "<dependencies>\n",
    "    <dependency>\n",
    "        <groupId>org.antlr</groupId>\n",
    "        <artifactId>antlr4-runtime</artifactId>\n",
    "        <version>4.12.0</version>\n",
    "    </dependency>\n",
    "    <!-- ASSERTJ - for testings and asserts -->\n",
    "    <dependency>\n",
    "        <groupId>org.assertj</groupId>\n",
    "        <artifactId>assertj-core</artifactId>\n",
    "        <version>3.24.2</version>\n",
    "        <scope>test</scope>\n",
    "    </dependency>\n",
    "</dependencies>"
   ]
  },
  {
   "cell_type": "code",
   "execution_count": 76,
   "id": "ff8059ea-286b-4cd3-b8ef-017c885398a6",
   "metadata": {},
   "outputs": [],
   "source": [
    "%maven org.assertj:assertj-core:3.24.2\n",
    "%jars imp-logics-2.0.0.jar\n",
    "%jars imp-logics-2.0.0-tests.jar\n",
    "%jars ontological-queries-rewriting-1.0-SNAPSHOT.jar\n",
    "\n",
    "import edu.upc.fib.inlab.imp.kse.logics.dependencyschema.domain.DependencySchema;\n",
    "import edu.upc.fib.inlab.imp.kse.logics.dependencyschema.domain.TGD;\n",
    "import edu.upc.fib.inlab.imp.kse.logics.dependencyschema.domain.EGD;\n",
    "import edu.upc.fib.inlab.imp.kse.logics.dependencyschema.services.analyzers.DatalogPlusMinusAnalyzer;\n",
    "import edu.upc.fib.inlab.imp.kse.logics.dependencyschema.services.analyzers.egds.NonConflictingEGDsAnalyzer;\n",
    "import edu.upc.fib.inlab.imp.kse.logics.dependencyschema.services.parser.DependencySchemaParser;\n",
    "import edu.upc.fib.inlab.imp.kse.logics.dependencyschema.services.printer.DependencySchemaPrinter;\n",
    "import edu.upc.fib.inlab.imp.kse.logics.logicschema.assertions.LogicSchemaAssertions;\n",
    "import edu.upc.fib.inlab.imp.kse.logics.logicschema.domain.*;\n",
    "import edu.upc.fib.inlab.imp.kse.logics.logicschema.services.parser.LogicSchemaWithIDsParser;\n",
    "import edu.upc.fib.inlab.imp.kse.logics.logicschema.services.parser.QueryParser;\n",
    "import edu.upc.fib.inlab.imp.kse.logics.logicschema.services.printer.LogicSchemaPrinter;\n",
    "import edu.upc.fib.inlab.imp.kse.logics.logicschema.services.printer.QueryPrinter;\n",
    "import edu.upc.fib.inlab.imp.kse.logics.logicschema.services.processes.EqualityReplacer;\n",
    "import edu.upc.fib.inlab.imp.kse.logics.logicschema.services.processes.LogicProcessPipeline;\n",
    "import edu.upc.fib.inlab.imp.kse.logics.logicschema.services.processes.SchemaUnfolder;\n",
    "import edu.upc.fib.inlab.imp.kse.logics.logicschema.services.processes.SingleDerivationRuleTransformer;\n",
    "import edu.upc.fib.inlab.imp.kse.ontological_queries_rewriting.OBDAMapping;\n",
    "import edu.upc.fib.inlab.imp.kse.ontological_queries_rewriting.Rewriter;\n",
    "import edu.upc.fib.inlab.imp.kse.ontological_queries_rewriting.utils.normalizers.TGDNormalizerProcess;\n",
    "import edu.upc.fib.inlab.imp.kse.logics.dependencyschema.services.processes.*;\n",
    "import edu.upc.fib.inlab.imp.kse.logics.logicschema.services.parser.QueryParser;\n",
    "import edu.upc.fib.inlab.imp.kse.logics.logicschema.assertions.QueryAssert;\n",
    "\n",
    "\n",
    "import java.util.Collection;\n",
    "import java.util.HashSet;\n",
    "import java.util.List;\n",
    "import java.util.Set;\n",
    "\n",
    "import static org.assertj.core.api.Assertions.assertThat;"
   ]
  },
  {
   "cell_type": "code",
   "execution_count": 77,
   "id": "03c0c3cc-9cbb-4dd9-a8cb-ef4df5f92d57",
   "metadata": {},
   "outputs": [],
   "source": [
    "private static void printWithHeader(String logicConstraintUsedVariables, String content) {\n",
    "    System.out.println(\"\\u001B[1m\" + logicConstraintUsedVariables + \":\\033[0m \");\n",
    "    System.out.println(content);\n",
    "}\n",
    "\n",
    "private static void printWithHeaderInline(String logicConstraintUsedVariables, String content) {\n",
    "    System.out.print(\"\\u001B[1m\" + logicConstraintUsedVariables + \":\\033[0m \");\n",
    "    System.out.println(content);\n",
    "}\n",
    "private static void printHeaderInline(String logicConstraintUsedVariables) {\n",
    "    System.out.print(\"\\u001B[1m\" + logicConstraintUsedVariables + \":\\033[0m \");\n",
    "}"
   ]
  },
  {
   "cell_type": "markdown",
   "id": "dd2dc7c1-5424-4d0b-a472-442b974911ee",
   "metadata": {},
   "source": [
    "## DEMO START\n",
    "\n",
    "We structure the Demo in three parts:\n",
    "1. Showing the capabilities of the Datalog metamodel\n",
    "2. Showing the capabilities of the Dependency metamodel (i.e., Datalog+/-)\n",
    "3. Showing how to use both to implement and validate, for instance, an OBDA query rewritting"
   ]
  },
  {
   "cell_type": "markdown",
   "id": "7837711a-b641-4663-bc94-408821b887f3",
   "metadata": {},
   "source": [
    "### PART 1: LogicSchema, the Datalog metamodel"
   ]
  },
  {
   "cell_type": "markdown",
   "id": "5130e767-c8bb-4080-b645-a8fea319d204",
   "metadata": {},
   "source": [
    "#### Parsing a LogicSchema\n",
    "We start by parsing a logic schema regarding some university. That is, the Teachers and Students it has, and the AcademicRecords it stores.\n",
    "\n",
    "![title](./DB_Demo.png)\n",
    "\n",
    "In particular, such schema will contain the following predicates:"
   ]
  },
  {
   "cell_type": "code",
   "execution_count": 52,
   "id": "637e8ef8-c24c-4c11-83f1-6b603ca0e9cc",
   "metadata": {},
   "outputs": [],
   "source": [
    "Set<Predicate> predicates = Set.of(\n",
    "    new Predicate(\"DB_AcademicRecord\", 3),\n",
    "    new Predicate(\"DB_Student\", 2),\n",
    "    new Predicate(\"DB_Studies\", 2),\n",
    "    new Predicate(\"DB_Subject\", 1),\n",
    "    new Predicate(\"DB_AssistantTeacher\", 2),\n",
    "    new Predicate(\"DB_TenuredTeacher\", 2),\n",
    "    new Predicate(\"DB_Teaches\", 2),\n",
    "    new Predicate(\"DB_ComposesPlan\", 2),\n",
    "    new Predicate(\"DB_StudiesPlan\", 1),\n",
    "    new Predicate(\"DB_PublishesAbout\", 3)\n",
    ");"
   ]
  },
  {
   "cell_type": "markdown",
   "id": "a223417a-2769-4f1e-9f29-97aebd12e459",
   "metadata": {},
   "source": [
    "Assume that we want to define 3 constraints (written as denial constraints -aka negative constraints-), and some derived predicates.\n",
    "The easiest way is by parsing them.\n",
    "\n",
    "Let's first define the constraints and derivation rules as Strings:"
   ]
  },
  {
   "cell_type": "code",
   "execution_count": 53,
   "id": "ba44d654-2a8f-4fb5-b153-b52537ac3a6e",
   "metadata": {},
   "outputs": [],
   "source": [
    "String logicSchemaString = \"\"\"\n",
    "    %% Schema Logic Constraints\n",
    "    % AcademicRecord reference key to Student\n",
    "    @AcademicRecordFKToStudent :- DB_AcademicRecord(studentName, subject, eval), not(IsStudent(studentName))\n",
    "    IsStudent(studentName) :- DB_Student(studentName, age)\n",
    "                  \n",
    "    % Teacher must be over 18\n",
    "    @TeachersMustBeOver18 :- Teacher_view(name, age), age < 18\n",
    "    Teacher_view(name, age) :- DB_AssistantTeacher(name, age)\n",
    "    Teacher_view(name, age) :- DB_TenuredTeacher(name, age)\n",
    "                    \n",
    "    % A teacher cannot teach himself\n",
    "    @TeacherCannotTeachHimself :- DB_Teaches(teacherName, subject), DB_Studies(studentName, subject), teacherName=studentName\n",
    "    \"\"\";"
   ]
  },
  {
   "cell_type": "markdown",
   "id": "18208f63-be47-4115-b83f-0b472fd4aa92",
   "metadata": {},
   "source": [
    "Now we can parse them into a LogicSchema object."
   ]
  },
  {
   "cell_type": "code",
   "execution_count": 54,
   "id": "d028f1b5-16ff-494b-99bd-2a694ae8ef87",
   "metadata": {},
   "outputs": [],
   "source": [
    "LogicSchemaWithIDsParser logicSchemaParser = new LogicSchemaWithIDsParser();\n",
    "LogicSchema logicSchema = logicSchemaParser.parse(logicSchemaString, predicates);"
   ]
  },
  {
   "cell_type": "markdown",
   "id": "edef6280-684d-4001-a870-c0d5a40d8c96",
   "metadata": {},
   "source": [
    "We can print the schema:"
   ]
  },
  {
   "cell_type": "code",
   "execution_count": 55,
   "id": "d2e7303e-2f80-424f-bc4c-faf5e1c9abba",
   "metadata": {},
   "outputs": [
    {
     "name": "stdout",
     "output_type": "stream",
     "text": [
      "\u001b[1mLogic Schema:\u001b[0m \n",
      "@TeacherCannotTeachHimself :- DB_Teaches(teacherName, subject), DB_Studies(studentName, subject), teacherName=studentName\n",
      "@AcademicRecordFKToStudent :- DB_AcademicRecord(studentName, subject, eval), not(IsStudent(studentName))\n",
      "@TeachersMustBeOver18 :- Teacher_view(name, age), age<18\n",
      "IsStudent(studentName) :- DB_Student(studentName, age)\n",
      "Teacher_view(name, age) :- DB_AssistantTeacher(name, age)\n",
      "Teacher_view(name, age) :- DB_TenuredTeacher(name, age)\n",
      "\n"
     ]
    }
   ],
   "source": [
    "LogicSchemaPrinter logicSchemaPrinter = new LogicSchemaPrinter();\n",
    "printWithHeader(\"Logic Schema\", logicSchemaPrinter.print(logicSchema));"
   ]
  },
  {
   "cell_type": "markdown",
   "id": "9f1d434e-9cd7-47e5-b46c-b563f2a0e559",
   "metadata": {},
   "source": [
    "What else can we do?"
   ]
  },
  {
   "cell_type": "markdown",
   "id": "82f848b3-e9c1-44b7-b42a-648eca232e9b",
   "metadata": {},
   "source": [
    "#### LogicSchema navigation\n",
    "\n",
    "To show the navigation capabilities, we will pick the logic constraint `@AcademicRecordFKToStudent`, and from there, we will start visiting its literals, variables, predicates, etc."
   ]
  },
  {
   "cell_type": "code",
   "execution_count": 56,
   "id": "2990c8ba-0baf-4fe0-8443-cfa67e1ef0fb",
   "metadata": {},
   "outputs": [
    {
     "name": "stdout",
     "output_type": "stream",
     "text": [
      "\u001b[1mSelected Logic Constraint:\u001b[0m @AcademicRecordFKToStudent :- DB_AcademicRecord(studentName, subject, eval), not(IsStudent(studentName))\n"
     ]
    }
   ],
   "source": [
    "LogicConstraint selectedConstraint = logicSchema.getLogicConstraintByID(new ConstraintID(\"AcademicRecordFKToStudent\"));\n",
    "printWithHeaderInline(\"Selected Logic Constraint\", logicSchemaPrinter.visit(selectedConstraint));"
   ]
  },
  {
   "cell_type": "markdown",
   "id": "5cc28940-d068-4e9f-90ea-d39d3eed745a",
   "metadata": {},
   "source": [
    "We can check the used variables in the constraint body"
   ]
  },
  {
   "cell_type": "code",
   "execution_count": 57,
   "id": "38bc99b3-e031-470f-b61b-4d7d8fbd7f08",
   "metadata": {},
   "outputs": [
    {
     "name": "stdout",
     "output_type": "stream",
     "text": [
      "\u001b[1mUsed Variables in Body:\u001b[0m studentName subject eval "
     ]
    }
   ],
   "source": [
    "Set<Variable> usedVariables = selectedConstraint.getBody().getUsedVariables();\n",
    "printHeaderInline(\"Used Variables in Body\");\n",
    "for (Variable v : usedVariables) System.out.print(v.getName() + \" \");"
   ]
  },
  {
   "cell_type": "markdown",
   "id": "e047f1f4-231a-40a0-916c-3820589910e9",
   "metadata": {},
   "source": [
    "We can also navigate to its literals, predicates, and derivation rules it depends on. You can see the navegability possibilities in the following image:\n",
    "\n",
    "![title](./DatalogMetamodel.png)\n",
    "\n",
    "We can select a literal of the constraint, and check its positive/negative polarity, whether it is ground or not, or if it is base or derived."
   ]
  },
  {
   "cell_type": "code",
   "execution_count": 58,
   "id": "87ec9be2-68be-4781-93a5-3f778deb6896",
   "metadata": {
    "scrolled": true
   },
   "outputs": [
    {
     "name": "stdout",
     "output_type": "stream",
     "text": [
      "\u001b[1mSelected Ordinary Literal:\u001b[0m not(IsStudent(studentName))\n",
      "Ordinary Literal is negative: true\n",
      "Ordinary Literal is ground: false\n",
      "Ordinary Literal is base: false\n"
     ]
    }
   ],
   "source": [
    "OrdinaryLiteral olit = (OrdinaryLiteral) selectedConstraint.getBody().get(1);\n",
    "printWithHeaderInline(\"Selected Ordinary Literal\", olit.toString());\n",
    "\n",
    "System.out.println(\"Ordinary Literal is negative: \" + olit.isNegative());\n",
    "System.out.println(\"Ordinary Literal is ground: \" + olit.isGround());\n",
    "System.out.println(\"Ordinary Literal is base: \" + olit.isBase());"
   ]
  },
  {
   "cell_type": "markdown",
   "id": "faf08214-03da-47e8-b2b5-abe530faf293",
   "metadata": {},
   "source": [
    "The predicate of an ordinary literal can be obtained, and we can check whether it is base or derived"
   ]
  },
  {
   "cell_type": "code",
   "execution_count": 17,
   "id": "22dba214-237a-41e7-b11c-29086e2892b0",
   "metadata": {},
   "outputs": [],
   "source": [
    "Predicate olitPredicate = olit.getPredicate();"
   ]
  },
  {
   "cell_type": "markdown",
   "id": "eae981ff-4c06-45ff-bc4c-ae1201506a47",
   "metadata": {},
   "source": [
    "From a derived predicate we can access its definition rules"
   ]
  },
  {
   "cell_type": "code",
   "execution_count": null,
   "id": "a6ee133a-af33-43e9-94bb-69919c59b0c0",
   "metadata": {},
   "outputs": [],
   "source": [
    "List<DerivationRule> derivationRules = olitPredicate.getDerivationRules();\n",
    "printHeaderInline(\"Predicate's derivation rules:\");\n",
    "for (DerivationRule dr : derivationRules) System.out.print(logicSchemaPrinter.visit(dr));"
   ]
  },
  {
   "cell_type": "markdown",
   "id": "7bb38918-3941-4751-973c-2deb834c34b7",
   "metadata": {},
   "source": [
    "#### LogicSchema operations\n",
    "\n",
    "We refer as operations to those methods already available in the main metamodel classes.\n",
    "For instance, given an atom we can unfold it:"
   ]
  },
  {
   "cell_type": "code",
   "execution_count": 59,
   "id": "3e0ddd34-7c84-4292-8c30-7dfec1dafa0f",
   "metadata": {},
   "outputs": [
    {
     "name": "stdout",
     "output_type": "stream",
     "text": [
      "\u001b[1mOriginal atom:\u001b[0m IsStudent(John)\n",
      "\u001b[1mDerivation rules it has:\u001b[0m [IsStudent(studentName) :- DB_Student(studentName, age)]\n",
      "\u001b[1mAtom after unfolding:\u001b[0m [DB_Student(John, age)]\n"
     ]
    }
   ],
   "source": [
    "Predicate isStudentPredicate = logicSchema.getPredicateByName(\"IsStudent\");\n",
    "Atom johnAtom = new Atom(isStudentPredicate, List.of(new Constant(\"John\")));\n",
    "printWithHeaderInline(\"Original atom\", johnAtom.toString());\n",
    "printWithHeaderInline(\"Derivation rules it has\", johnAtom.getPredicate().getDerivationRules().toString());\n",
    "printWithHeaderInline(\"Atom after unfolding\", johnAtom.unfold().toString());"
   ]
  },
  {
   "cell_type": "markdown",
   "id": "7ee54830-a84a-4fe7-96f9-e31475a00835",
   "metadata": {},
   "source": [
    "The unfold is also available for list of literals, and it takes care of avoiding variable name clashing:"
   ]
  },
  {
   "cell_type": "code",
   "execution_count": 60,
   "id": "4a4daab6-8adb-441e-b989-551e39f90b71",
   "metadata": {},
   "outputs": [
    {
     "name": "stdout",
     "output_type": "stream",
     "text": [
      "\u001b[1mOriginal literalsList:\u001b[0m IsStudent(John), IsStudent(Mary)\n",
      "\u001b[1mUnfolding the second literal:\u001b[0m [IsStudent(John), DB_Student(Mary, age)]\n",
      "\u001b[1mUnfolding both literals:\u001b[0m [DB_Student(John, age'), DB_Student(Mary, age)]\n"
     ]
    }
   ],
   "source": [
    "OrdinaryLiteral johnStudent = new OrdinaryLiteral(johnAtom);\n",
    "OrdinaryLiteral maryStudent = new OrdinaryLiteral(new Atom(isStudentPredicate, List.of(new Constant(\"Mary\"))));\n",
    "ImmutableLiteralsList literalsList = new ImmutableLiteralsList(List.of(johnStudent, maryStudent));\n",
    "printWithHeaderInline(\"Original literalsList\", literalsList.toString());\n",
    "printWithHeaderInline(\"Unfolding the second literal\", literalsList.unfold(1).toString());\n",
    "printWithHeaderInline(\"Unfolding both literals\", literalsList.unfold(1).get(0).unfold(0).toString());"
   ]
  },
  {
   "cell_type": "markdown",
   "id": "3dfdfe12-eb47-4036-81e5-501b03052f31",
   "metadata": {},
   "source": [
    "Do note that the unfolding has avoided a variable name clash with age."
   ]
  },
  {
   "cell_type": "markdown",
   "id": "a16dff88-1b6f-40a6-878b-36106059991c",
   "metadata": {},
   "source": [
    "#### LogicSchema services\n",
    "\n",
    "We refer as services to those operations that are not inside the main class diagram.\n",
    "\n",
    "Just for example, we will show some transformation services. Transformation services receives as input a logic schema and outputs a new logic schema\n",
    "after applying some transformation into it. Such processes can be executed in a pipeline.\n",
    "\n",
    "For our demo, we will use the `EqualityReplacer`, `SchemaUnfolder` processes."
   ]
  },
  {
   "cell_type": "code",
   "execution_count": null,
   "id": "1731f178-4b49-4296-ba1c-d6f418f4e675",
   "metadata": {},
   "outputs": [],
   "source": [
    "LogicProcessPipeline pipeline = new LogicProcessPipeline(List.of(\n",
    "        new EqualityReplacer(),\n",
    "        new SchemaUnfolder(false)\n",
    "));\n",
    "LogicSchema modifiedLogicSchema = pipeline.execute(logicSchema);\n",
    "printWithHeader(\"Modified schema\", logicSchemaPrinter.print(modifiedLogicSchema));"
   ]
  },
  {
   "cell_type": "markdown",
   "id": "3f2a0cb2-91e2-4fb4-973d-e29a0c76527e",
   "metadata": {},
   "source": [
    "### PART 2: DependencySchema, the Datalog+/- metamodel"
   ]
  },
  {
   "cell_type": "markdown",
   "id": "0b824a41-56b7-473e-92ec-fdd09659c124",
   "metadata": {},
   "source": [
    "#### Parsing a DependencySchema\n",
    "\n",
    "We will now parse an ontology over the same university domain."
   ]
  },
  {
   "cell_type": "code",
   "execution_count": 61,
   "id": "473acd66-b2fd-4318-a882-151b473ab614",
   "metadata": {},
   "outputs": [],
   "source": [
    "String dependencySchemaString = \"\"\"\n",
    "    % If a student passes a subject, the student has some evaluation\n",
    "    HasPassed(student, subject) -> Exam(teacher, student, subject, data)\n",
    "                    \n",
    "    % If a teacher teaches a subject a student is coursing, the teacher evaluates the student\n",
    "    Teaches(teacher, subject), Studies(student, subject) -> Exam(teacher, student, subject, data)\n",
    "                    \n",
    "    % If a teacher is expert in a subject from a study plan, the teacher gives the subject\n",
    "    ExpertIn(teacher, subject), ComposesPlan(subject, studyPlan) -> Teaches(teacher, subject)\n",
    "                    \n",
    "    % A subject has, at most, one exam per day\n",
    "    Exam(teacher, student, subject, data), Exam(teacher2, student2, subject, data) -> teacher = teacher2\n",
    "    Exam(teacher, student, subject, data), Exam(teacher2, student2, subject, data) -> student = student2\n",
    "    \"\"\";\n",
    "DependencySchemaParser dependencySchemaParser = new DependencySchemaParser();\n",
    "DependencySchema dependencySchema = dependencySchemaParser.parse(dependencySchemaString);"
   ]
  },
  {
   "cell_type": "markdown",
   "id": "0797b7df-65b0-4339-a55c-21167c6a8891",
   "metadata": {},
   "source": [
    "We can, for instance, print the dependency schema"
   ]
  },
  {
   "cell_type": "code",
   "execution_count": 62,
   "id": "3d7da2b1-ecab-47e0-a47e-d942723071ab",
   "metadata": {},
   "outputs": [
    {
     "name": "stdout",
     "output_type": "stream",
     "text": [
      "\u001b[1mDependency Schema:\u001b[0m \n",
      "HasPassed(student, subject) -> Exam(teacher, student, subject, data)\n",
      "Teaches(teacher, subject), Studies(student, subject) -> Exam(teacher, student, subject, data)\n",
      "ExpertIn(teacher, subject), ComposesPlan(subject, studyPlan) -> Teaches(teacher, subject)\n",
      "Exam(teacher, student, subject, data), Exam(teacher2, student2, subject, data) -> teacher=teacher2\n",
      "Exam(teacher, student, subject, data), Exam(teacher2, student2, subject, data) -> student=student2\n",
      "\n"
     ]
    }
   ],
   "source": [
    "DependencySchemaPrinter dependencySchemaPrinter = new DependencySchemaPrinter();\n",
    "printWithHeader(\"Dependency Schema\", dependencySchemaPrinter.print(dependencySchema));"
   ]
  },
  {
   "cell_type": "markdown",
   "id": "633de9e1-4ed6-48fb-94c7-027546090ec3",
   "metadata": {},
   "source": [
    "Let's see what else can we do"
   ]
  },
  {
   "cell_type": "markdown",
   "id": "d3306d88-b079-4759-a6ae-d0b637404f66",
   "metadata": {},
   "source": [
    "#### DependencySchema navigation\n",
    "\n",
    "![title](./DependencyMetamodel.png)\n",
    "\n",
    "We can pick the TGDs and EGDs of the schema, and similarly as before, navigate through the metamodel."
   ]
  },
  {
   "cell_type": "code",
   "execution_count": 63,
   "id": "a982e85c-392d-42f0-b4c9-ae59f03801ab",
   "metadata": {},
   "outputs": [
    {
     "name": "stdout",
     "output_type": "stream",
     "text": [
      "\u001b[1mSelected TGD:\u001b[0m HasPassed(student, subject) -> Exam(teacher, student, subject, data)\n",
      "\u001b[1mSelected EGD:\u001b[0m Exam(teacher, student, subject, data), Exam(teacher2, student2, subject, data) -> teacher = teacher2\n",
      "\u001b[1mSelected equality:\u001b[0m teacher = teacher2\n"
     ]
    }
   ],
   "source": [
    "TGD tgd = dependencySchema.getAllTGDs().get(0);\n",
    "printWithHeaderInline(\"Selected TGD\", tgd.toString());\n",
    "\n",
    "EGD egd = dependencySchema.getAllEGDs().get(0);\n",
    "printWithHeaderInline(\"Selected EGD\", egd.toString());\n",
    "\n",
    "EqualityComparisonBuiltInLiteral equality = egd.getHead();\n",
    "printWithHeaderInline(\"Selected equality\", equality.toString());"
   ]
  },
  {
   "cell_type": "markdown",
   "id": "6eb481dd-b7ac-46c0-bbf1-725d30fb51d6",
   "metadata": {},
   "source": [
    "#### DependencySchema operations\n",
    "\n",
    "For instance, we can check whether the previous TGD is linear, or guarded."
   ]
  },
  {
   "cell_type": "code",
   "execution_count": 64,
   "id": "fbba02f5-1326-4e92-9238-dd402cdcf2bb",
   "metadata": {},
   "outputs": [
    {
     "name": "stdout",
     "output_type": "stream",
     "text": [
      "TGD is linear: true\n",
      "TGD is guarded: true\n"
     ]
    }
   ],
   "source": [
    "System.out.println(\"TGD is linear: \" + tgd.isLinear());\n",
    "System.out.println(\"TGD is guarded: \" + tgd.isGuarded());"
   ]
  },
  {
   "cell_type": "markdown",
   "id": "5a0df922-67e3-4f46-97dc-5f7989c81260",
   "metadata": {},
   "source": [
    "#### DependencySchema services\n",
    "Among other services, we can check whether the EGDs are conflicting with the TGDs:"
   ]
  },
  {
   "cell_type": "code",
   "execution_count": 65,
   "id": "05bcd120-e59a-41a0-bd08-bba061d3a360",
   "metadata": {},
   "outputs": [
    {
     "name": "stdout",
     "output_type": "stream",
     "text": [
      "EGDs of schema are non conflicting / separable: true"
     ]
    }
   ],
   "source": [
    "NonConflictingEGDsAnalyzer nonConflictingEGDsAnalyzer = new NonConflictingEGDsAnalyzer();\n",
    "boolean separable = nonConflictingEGDsAnalyzer.areEGDsNonConflictingWithTGDs(dependencySchema);\n",
    "System.out.print(\"EGDs of schema are non conflicting / separable: \" + separable);"
   ]
  },
  {
   "cell_type": "markdown",
   "id": "8a6518eb-3241-4c82-b03e-9bf67c692cde",
   "metadata": {},
   "source": [
    "We will now analyze which Datalog+/- languages this dependency schema satisfies"
   ]
  },
  {
   "cell_type": "code",
   "execution_count": 66,
   "id": "a5d750b4-1068-4379-b1ea-1f3c614207e2",
   "metadata": {},
   "outputs": [
    {
     "name": "stdout",
     "output_type": "stream",
     "text": [
      "\u001b[1mThis dependency schema is: :\u001b[0m WEAKLY_GUARDED STICKY "
     ]
    }
   ],
   "source": [
    "DatalogPlusMinusAnalyzer analyzer = new DatalogPlusMinusAnalyzer();\n",
    "Set<DatalogPlusMinusAnalyzer.DatalogPlusMinusLanguage> languages = analyzer.getDatalogPlusMinusLanguages(dependencySchema);\n",
    "printHeaderInline(\"This dependency schema is: \");\n",
    "for (DatalogPlusMinusAnalyzer.DatalogPlusMinusLanguage dl : languages) System.out.print(dl.name() + \" \");"
   ]
  },
  {
   "cell_type": "markdown",
   "id": "1179d981-2212-45e9-9f59-dc65c5a02c8a",
   "metadata": {},
   "source": [
    "There are also some transformation services, but we will take them a look on the thirt part of the demonstration."
   ]
  },
  {
   "cell_type": "markdown",
   "id": "a039f2b9-23b6-4d5b-861d-8521a0a6b9f3",
   "metadata": {},
   "source": [
    "### PART 3: Using IMP-Logics for OBDA\n",
    "\n",
    "We will show how IMP-Logics can be used to implement OBDA concepts such as an ontology query-rewritting.\n",
    "We will assume that:\n",
    "- Our logicSchema is a relational database\n",
    "- Our dependencySchema is an ontology defined on top of the previous database\n",
    "\n",
    "We start by \"normalizing\" the dependencySchema. That is, we need to obtain a new dependencySchema where each TGD head has at most one atom with at most one existential variable.\n",
    "\n",
    "We can easily implement such normalization by concatenating two DependencySchema services from IMP-Logics"
   ]
  },
  {
   "cell_type": "code",
   "execution_count": 67,
   "id": "462ef3f3-adec-44c7-a56d-9ff4dc20e96b",
   "metadata": {},
   "outputs": [
    {
     "name": "stdout",
     "output_type": "stream",
     "text": [
      "\u001b[1mNormalized Dependency Schema:\u001b[0m \n",
      "HasPassed(student, subject) -> AUX1(student, subject, teacher)\n",
      "AUX1(student, subject, teacher) -> AUX2(student, subject, teacher, data)\n",
      "AUX2(student, subject, teacher, data) -> Exam(teacher, student, subject, data)\n",
      "Teaches(teacher, subject), Studies(student, subject) -> Exam(teacher, student, subject, data)\n",
      "ExpertIn(teacher, subject), ComposesPlan(subject, studyPlan) -> Teaches(teacher, subject)\n",
      "Exam(teacher, student, subject, data), Exam(teacher2, student2, subject, data) -> teacher=teacher2\n",
      "Exam(teacher, student, subject, data), Exam(teacher2, student2, subject, data) -> student=student2\n",
      "\n"
     ]
    }
   ],
   "source": [
    "DependencyProcessPipeline dependencyProcessPipeline = new DependencyProcessPipeline(List.of(\n",
    "                new SingleHeadTGDTransformer(),                      //provided by IMP-Logics\n",
    "                new SingleExistentialVarTGDTransformer()));          //provided by IMP-Logics\n",
    "DependencySchema normalizedDependencySchema = dependencyProcessPipeline.execute(dependencySchema);\n",
    "\n",
    "DependencySchemaPrinter dependencySchemaPrinter = new DependencySchemaPrinter();\n",
    "printWithHeader(\"Normalized Dependency Schema\", dependencySchemaPrinter.print(normalizedDependencySchema));"
   ]
  },
  {
   "cell_type": "markdown",
   "id": "3cb48407-fadb-469e-915e-b00628b692c9",
   "metadata": {},
   "source": [
    "We now define some mappings from the predicates of the dependencySchema (the ontology) to the predicates of the logicSchema (the database).\n",
    "To do so, we reuse the Query class of IMP-Logics, and define our new class OBDAMapping."
   ]
  },
  {
   "cell_type": "code",
   "execution_count": 68,
   "id": "05a6bd4f-6203-4e7b-99f9-acf086650433",
   "metadata": {},
   "outputs": [],
   "source": [
    "String mappingDBQueriesString = \"\"\"\n",
    "    % HasPassed(student, subject)\n",
    "    (student, subject) :- DB_AcademicRecord(student, subject, mark), mark > 5\n",
    "    \n",
    "    % Exam(teacher, student, subject, data)\n",
    "    (teacher, student, subject, data) :- DB_Exam(teacher, student, subject, data)\n",
    "    \n",
    "    % Teaches(teacher, subject)\n",
    "    (teacher, subject) :- DB_Teaches(teacher, subject)\n",
    "    \n",
    "    % Studies(student, subject)\n",
    "    (student, subject) :- DB_Studies(student, subject)\n",
    "    \n",
    "    % ExpertIn(teacher, subject)\n",
    "    (teacher, subject) :- DB_PublishesAbout(teacher, paper, subject), DB_PublishesAbout(teacher, paper2, subject), paper<>paper2\n",
    "    \n",
    "    % ComposesPlan(subject, studyPlan)\n",
    "    (subject, studyPlan) :- DB_ComposesPlan(subject, studyPlan)\n",
    "    \"\"\";\n",
    "QueryParser queryParser = new QueryParser();                    //Provided by IMP-Logics\n",
    "List<Query> mappingDBQueries = queryParser.parse(mappingDBQueriesString, predicates);\n",
    "OBDAMapping mapping = new OBDAMapping.OBDAMappingBuilder()\n",
    "    .addMapping(normalizedDependencySchema.getPredicateByName(\"HasPassed\"), mappingDBQueries.get(0))\n",
    "    .addMapping(normalizedDependencySchema.getPredicateByName(\"Exam\"), mappingDBQueries.get(1))\n",
    "    .addMapping(normalizedDependencySchema.getPredicateByName(\"Teaches\"), mappingDBQueries.get(2))\n",
    "    .addMapping(normalizedDependencySchema.getPredicateByName(\"Studies\"), mappingDBQueries.get(3))\n",
    "    .addMapping(normalizedDependencySchema.getPredicateByName(\"ExpertIn\"), mappingDBQueries.get(4))\n",
    "    .addMapping(normalizedDependencySchema.getPredicateByName(\"ComposesPlan\"), mappingDBQueries.get(5))\n",
    "    .build();"
   ]
  },
  {
   "cell_type": "markdown",
   "id": "709865f0-97a3-48a8-a809-21f1f4615963",
   "metadata": {},
   "source": [
    "We now define a Conjunctive Query over the ontology"
   ]
  },
  {
   "cell_type": "code",
   "execution_count": 69,
   "id": "f5b2be99-03ed-48e0-8607-06f14e4f0f93",
   "metadata": {},
   "outputs": [],
   "source": [
    "String queryString = \"\"\"\n",
    "    % Ontological Query\n",
    "    (student) :- Exam(teacher, student, subject, data)\n",
    "    \"\"\";\n",
    "ConjunctiveQuery ontologicalQuery = (ConjunctiveQuery) queryParser.parse(queryString, normalizedDependencySchema.getAllPredicates()).get(0); //Provided by IMP-Logics"
   ]
  },
  {
   "cell_type": "markdown",
   "id": "816aecc5-bce7-4768-9761-193d2173f41d",
   "metadata": {},
   "source": [
    "#### Rewritting the query\n",
    "\n",
    "We have defined a new class Rewriter, using the metamodel of DependencySchema, that applies a FO-rewritting algorithm.\n",
    "You can see the code of this class [here](https://github.com/inLabFIB/imp-logics-demo/blob/master/src/main/java/edu/upc/fib/inlab/imp/kse/ontological_queries_rewriting/Rewriter.java), and realize that it is using the concepts provided by IMP-Logics such as ConjunctiveQuery, TGD, MGUFinder, etc."
   ]
  },
  {
   "cell_type": "code",
   "execution_count": 70,
   "id": "5523c90b-ab14-4589-a8ee-f7418b78f687",
   "metadata": {},
   "outputs": [],
   "source": [
    "Set<TGD> ontologyTGDs = new HashSet<>(normalizedDependencySchema.getAllTGDs());\n",
    "List<ConjunctiveQuery> rewriting = Rewriter.rewrite(ontologicalQuery, ontologyTGDs);"
   ]
  },
  {
   "cell_type": "markdown",
   "id": "b4ccbe5f-5f23-46b4-8b67-5abb803f81e6",
   "metadata": {},
   "source": [
    "We can now print the query"
   ]
  },
  {
   "cell_type": "code",
   "execution_count": 71,
   "id": "412be956-9f7d-44ed-beec-e65088ef805d",
   "metadata": {},
   "outputs": [
    {
     "name": "stdout",
     "output_type": "stream",
     "text": [
      "\u001b[1mQuery 0:\u001b[0m \n",
      "(student) :- Exam(teacher, student, subject, data)\n",
      "\u001b[1mQuery 1:\u001b[0m \n",
      "(student) :- Teaches(teacher, subject), Studies(student, subject)\n",
      "\u001b[1mQuery 2:\u001b[0m \n",
      "(student) :- AUX2(student, subject, teacher, data)\n",
      "\u001b[1mQuery 3:\u001b[0m \n",
      "(student) :- ExpertIn(teacher, subject), ComposesPlan(subject, unfTGD0), Studies(student, subject)\n",
      "\u001b[1mQuery 4:\u001b[0m \n",
      "(student) :- AUX1(student, subject, teacher)\n",
      "\u001b[1mQuery 5:\u001b[0m \n",
      "(student) :- HasPassed(student, subject)\n"
     ]
    }
   ],
   "source": [
    "QueryPrinter queryPrinter = new QueryPrinter();\n",
    "for (int i = 0; i < rewriting.size(); i++) {\n",
    "    Query queryToPrint = rewriting.get(i);\n",
    "    printWithHeader(\"Query \" + i, queryPrinter.print(queryToPrint));\n",
    "}"
   ]
  },
  {
   "cell_type": "markdown",
   "id": "65f406dd-bf65-4b24-a2a0-3a804aaf1d10",
   "metadata": {},
   "source": [
    "#### Rewritting the query over the database\n",
    "\n",
    "To finish the implementation of the query-rewritting, we need to translate the queries in terms of the database tables.\n",
    "We have done so in the OBDA::translateToDBQueries functions, whose code is available [here](https://github.com/inLabFIB/imp-logics-demo/blob/master/src/main/java/edu/upc/fib/inlab/imp/kse/ontological_queries_rewriting/OBDAMapping.java#L38). Again, do note that it could\n",
    "be implemented in few lines since most of the logic, that is, the unfolding, is already carried on IMP-Logics."
   ]
  },
  {
   "cell_type": "code",
   "execution_count": 72,
   "id": "9ed0e551-e73e-4b61-864a-01d931e92184",
   "metadata": {},
   "outputs": [],
   "source": [
    "List<Query> finalRewriting = rewriting.stream()\n",
    "    .map(mapping::translateToDBQueries)\n",
    "    .flatMap(Collection::stream)\n",
    "    .toList();"
   ]
  },
  {
   "cell_type": "markdown",
   "id": "03adca24-2527-4f7e-b463-db614caa2b6e",
   "metadata": {},
   "source": [
    "We can now print the query"
   ]
  },
  {
   "cell_type": "code",
   "execution_count": 73,
   "id": "6b8ab7a2-2d42-4cd1-99fd-5974d1945541",
   "metadata": {},
   "outputs": [
    {
     "name": "stdout",
     "output_type": "stream",
     "text": [
      "\u001b[1mQuery 0:\u001b[0m \n",
      "(student) :- DB_Exam(teacher, student, subject, data)\n",
      "\u001b[1mQuery 1:\u001b[0m \n",
      "(student) :- DB_Teaches(teacher, subject), DB_Studies(student, subject)\n",
      "\u001b[1mQuery 2:\u001b[0m \n",
      "(student) :- DB_PublishesAbout(teacher, paper, subject), DB_PublishesAbout(teacher, paper2, subject), paper<>paper2, DB_ComposesPlan(subject, unfTGD0), DB_Studies(student, subject)\n",
      "\u001b[1mQuery 3:\u001b[0m \n",
      "(student) :- DB_AcademicRecord(student, subject, mark), mark>5\n"
     ]
    }
   ],
   "source": [
    "for (int i = 0; i < finalRewriting.size(); i++) {\n",
    "    Query queryToPrint = finalRewriting.get(i);\n",
    "    printWithHeader(\"Query \" + i, queryPrinter.print(queryToPrint));\n",
    "}"
   ]
  },
  {
   "cell_type": "markdown",
   "id": "0961ba8c-42dd-4236-9456-f62e815c0a3e",
   "metadata": {},
   "source": [
    "#### We can use IMP-Logics asserts to check its validity\n",
    "\n",
    "IMP-Logics is not only useful for developing the code, but also for checking its validity.\n",
    "To validate the developed code, IMP-Logics also offers several testing facilities, such as the definition of several asserts.\n",
    "\n",
    "In this example, we can check whether the 2nd query obtained query is isomorphic (i.e., the same up to variable-renaming) to an expected one:"
   ]
  },
  {
   "cell_type": "code",
   "execution_count": 74,
   "id": "8edd3103-1930-4d36-84a0-aa2f7491a08a",
   "metadata": {},
   "outputs": [
    {
     "data": {
      "text/plain": [
       "edu.upc.fib.inlab.imp.kse.logics.logicschema.assertions.QueryAssert@1"
      ]
     },
     "execution_count": 74,
     "metadata": {},
     "output_type": "execute_result"
    }
   ],
   "source": [
    "QueryAssert.assertThat(finalRewriting.get(2))\n",
    "    .isIsomorphicTo(List.of(\"st\"), \" DB_PublishesAbout(t, p, s), DB_PublishesAbout(t, p2, s), p<>p2, DB_ComposesPlan(s, sP), DB_Studies(st, s)\")"
   ]
  },
  {
   "cell_type": "markdown",
   "id": "b60d086d-0c49-431f-8149-7e885bd94b74",
   "metadata": {},
   "source": [
    "Do note that the check fails if the actual query is not isomorphic to the expectation (here we change 'st' to 's' to make them non-isomorphic):"
   ]
  },
  {
   "cell_type": "code",
   "execution_count": 47,
   "id": "53fa3f3b-7530-4555-8b94-4450a530456c",
   "metadata": {},
   "outputs": [
    {
     "ename": "EvalException",
     "evalue": "[Actual query '(student) :- DB_PublishesAbout(teacher, paper, subject), DB_PublishesAbout(teacher, paper2, subject), paper<>paper2, DB_ComposesPlan(subject, unfTGD0), DB_Studies(student, subject)' is not isomorphic to\nExpected query '(s) :- DB_PublishesAbout(t, p, s), DB_PublishesAbout(t, p2, s), p<>p2, DB_ComposesPlan(s, sP), DB_Studies(s, s)'] \nExpecting value to be true but was false",
     "output_type": "error",
     "traceback": [
      "\u001b[1m\u001b[31m---------------------------------------------------------------------------\u001b[0m",
      "\u001b[1m\u001b[31mjava.lang.AssertionError: [Actual query '(student) :- DB_PublishesAbout(teacher, paper, subject), DB_PublishesAbout(teacher, paper2, subject), paper<>paper2, DB_ComposesPlan(subject, unfTGD0), DB_Studies(student, subject)' is not isomorphic to\u001b[0m",
      "\u001b[1m\u001b[31mExpected query '(s) :- DB_PublishesAbout(t, p, s), DB_PublishesAbout(t, p2, s), p<>p2, DB_ComposesPlan(s, sP), DB_Studies(s, s)'] \u001b[0m",
      "\u001b[1m\u001b[31mExpecting value to be true but was false\u001b[0m",
      "\u001b[1m\u001b[31m\tat edu.upc.fib.inlab.imp.kse.logics.logicschema.assertions.QueryAssert.isIsomorphicTo(QueryAssert.java:63)\u001b[0m",
      "\u001b[1m\u001b[31m\tat edu.upc.fib.inlab.imp.kse.logics.logicschema.assertions.QueryAssert.isIsomorphicTo(QueryAssert.java:69)\u001b[0m",
      "\u001b[1m\u001b[31m\tat .(#165:2)\u001b[0m"
     ]
    }
   ],
   "source": [
    "QueryAssert.assertThat(finalRewriting.get(2))\n",
    "    .isIsomorphicTo(List.of(\"s\"), \" DB_PublishesAbout(t, p, s), DB_PublishesAbout(t, p2, s), p<>p2, DB_ComposesPlan(s, sP), DB_Studies(s, s)\")"
   ]
  },
  {
   "cell_type": "code",
   "execution_count": null,
   "id": "af71a04f-9c37-4caf-b331-509d1b5f9a02",
   "metadata": {},
   "outputs": [],
   "source": []
  }
 ],
 "metadata": {
  "kernelspec": {
   "display_name": "Java",
   "language": "java",
   "name": "java"
  },
  "language_info": {
   "codemirror_mode": "java",
   "file_extension": ".jshell",
   "mimetype": "text/x-java-source",
   "name": "Java",
   "pygments_lexer": "java",
   "version": "17.0.10+7-Ubuntu-122.04.1"
  }
 },
 "nbformat": 4,
 "nbformat_minor": 5
}
