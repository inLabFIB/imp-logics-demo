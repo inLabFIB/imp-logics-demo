{
 "cells": [
  {
   "cell_type": "markdown",
   "id": "3664bcc3-a7e9-4cd4-9aa4-dcd9c86aab18",
   "metadata": {},
   "source": [
    "# IMP Logics DEMO"
   ]
  },
  {
   "cell_type": "markdown",
   "id": "ca9ad324-3d04-4388-bbb8-478a53c2c0d7",
   "metadata": {},
   "source": [
    "## LOADING PROJECT DEPENDENCIES"
   ]
  },
  {
   "cell_type": "code",
   "execution_count": 1,
   "id": "8a3126b9-6f5b-41fc-afec-c30e4c216584",
   "metadata": {
    "is_executing": true
   },
   "outputs": [],
   "source": [
    "%%loadFromPOM\n",
    "<dependencies>\n",
    "    <!-- ANTLR - should actually not be needed, problem with imp-logics.jar -->\n",
    "    <dependency>\n",
    "        <groupId>org.antlr</groupId>\n",
    "        <artifactId>antlr4-runtime</artifactId>\n",
    "        <version>4.12.0</version>\n",
    "    </dependency>\n",
    "    <!-- ASSERTJ - for testings and asserts -->\n",
    "    <dependency>\n",
    "        <groupId>org.assertj</groupId>\n",
    "        <artifactId>assertj-core</artifactId>\n",
    "        <version>3.24.2</version>\n",
    "        <scope>test</scope>\n",
    "    </dependency>\n",
    "</dependencies>"
   ]
  },
  {
   "cell_type": "code",
   "execution_count": 2,
   "id": "ff8059ea-286b-4cd3-b8ef-017c885398a6",
   "metadata": {},
   "outputs": [],
   "source": [
    "%maven org.assertj:assertj-core:3.24.2\n",
    "%jars imp-logics-2.0.0-SNAPSHOT.jar\n",
    "%jars imp-logics-2.0.0-SNAPSHOT-tests.jar\n",
    "%jars ontological-queries-rewriting-1.0-SNAPSHOT.jar\n",
    "\n",
    "import edu.upc.fib.inlab.imp.kse.logics.dependencyschema.domain.DependencySchema;\n",
    "import edu.upc.fib.inlab.imp.kse.logics.dependencyschema.domain.TGD;\n",
    "import edu.upc.fib.inlab.imp.kse.logics.dependencyschema.services.analyzers.DatalogPlusMinusAnalyzer;\n",
    "import edu.upc.fib.inlab.imp.kse.logics.dependencyschema.services.analyzers.egds.NonConflictingEGDsAnalyzer;\n",
    "import edu.upc.fib.inlab.imp.kse.logics.dependencyschema.services.parser.DependencySchemaParser;\n",
    "import edu.upc.fib.inlab.imp.kse.logics.dependencyschema.services.printer.DependencySchemaPrinter;\n",
    "import edu.upc.fib.inlab.imp.kse.logics.logicschema.assertions.LogicSchemaAssertions;\n",
    "import edu.upc.fib.inlab.imp.kse.logics.logicschema.domain.*;\n",
    "import edu.upc.fib.inlab.imp.kse.logics.logicschema.services.parser.LogicSchemaWithIDsParser;\n",
    "import edu.upc.fib.inlab.imp.kse.logics.logicschema.services.parser.QueryParser;\n",
    "import edu.upc.fib.inlab.imp.kse.logics.logicschema.services.printer.LogicSchemaPrinter;\n",
    "import edu.upc.fib.inlab.imp.kse.logics.logicschema.services.printer.QueryPrinter;\n",
    "import edu.upc.fib.inlab.imp.kse.logics.logicschema.services.processes.EqualityReplacer;\n",
    "import edu.upc.fib.inlab.imp.kse.logics.logicschema.services.processes.LogicProcessPipeline;\n",
    "import edu.upc.fib.inlab.imp.kse.logics.logicschema.services.processes.SchemaUnfolder;\n",
    "import edu.upc.fib.inlab.imp.kse.logics.logicschema.services.processes.SingleDerivationRuleTransformer;\n",
    "import edu.upc.fib.inlab.imp.kse.ontological_queries_rewriting.OBDAMapping;\n",
    "import edu.upc.fib.inlab.imp.kse.ontological_queries_rewriting.Rewriter;\n",
    "import edu.upc.fib.inlab.imp.kse.ontological_queries_rewriting.utils.normalizers.TGDNormalizerProcess;\n",
    "\n",
    "import java.util.Collection;\n",
    "import java.util.HashSet;\n",
    "import java.util.List;\n",
    "import java.util.Set;\n",
    "\n",
    "import static org.assertj.core.api.Assertions.assertThat;"
   ]
  },
  {
   "cell_type": "code",
   "execution_count": 3,
   "id": "03c0c3cc-9cbb-4dd9-a8cb-ef4df5f92d57",
   "metadata": {},
   "outputs": [],
   "source": [
    "private static void printWithHeader(String logicConstraintUsedVariables, String content) {\n",
    "    System.out.println(\"\\u001B[1m\" + logicConstraintUsedVariables + \":\\033[0m \");\n",
    "    System.out.println(content);\n",
    "}\n",
    "\n",
    "private static void printWithHeaderInline(String logicConstraintUsedVariables, String content) {\n",
    "    System.out.print(\"\\u001B[1m\" + logicConstraintUsedVariables + \":\\033[0m \");\n",
    "    System.out.println(content);\n",
    "}\n",
    "private static void printHeaderInline(String logicConstraintUsedVariables) {\n",
    "    System.out.print(\"\\u001B[1m\" + logicConstraintUsedVariables + \":\\033[0m \");\n",
    "}"
   ]
  },
  {
   "cell_type": "markdown",
   "id": "dd2dc7c1-5424-4d0b-a472-442b974911ee",
   "metadata": {},
   "source": [
    "## DEMO START"
   ]
  },
  {
   "cell_type": "markdown",
   "id": "7837711a-b641-4663-bc94-408821b887f3",
   "metadata": {},
   "source": [
    "### LOADING LOGIC SCHEMA UTILS & TOOLS"
   ]
  },
  {
   "cell_type": "code",
   "execution_count": 4,
   "id": "2033817c-d264-4661-bd62-bfa720687ea0",
   "metadata": {},
   "outputs": [],
   "source": [
    "LogicSchemaWithIDsParser logicSchemaParser = new LogicSchemaWithIDsParser();\n",
    "LogicSchemaPrinter logicSchemaPrinter = new LogicSchemaPrinter();\n",
    "QueryParser queryParser = new QueryParser();\n",
    "QueryPrinter queryPrinter = new QueryPrinter();"
   ]
  },
  {
   "cell_type": "markdown",
   "id": "fcda2ed4-87d2-4329-a9f6-3a65b6f906cc",
   "metadata": {},
   "source": [
    "### PARSING & PRINTING LOGIC SCHEMA (CONTAINS LOGIC CONSTRAINTS AND MAPPINGS)"
   ]
  },
  {
   "cell_type": "code",
   "execution_count": 5,
   "id": "321ef275-e947-44aa-82bd-2e1c36b635d2",
   "metadata": {},
   "outputs": [
    {
     "name": "stdout",
     "output_type": "stream",
     "text": [
      "\u001b[1mLogic Schema:\u001b[0m \n",
      "@TeacherCannotTeachHimself :- DB_Teaches(teacherName, subject), DB_Studies(studentName, subject), teacherName=studentName\n",
      "@AcademicRecordFKToStudent :- DB_AcademicRecord(studentName, subject, eval), not(IsStudent(studentName))\n",
      "@TeachersMustBeOver18 :- Teacher_view(name, age), age<18\n",
      "IsStudent(studentName) :- DB_Student(studentName, age)\n",
      "Teacher_view(name, age) :- DB_AssistantTeacher(name, age)\n",
      "Teacher_view(name, age) :- DB_TenuredTeacher(name, age)\n",
      "\n",
      "\u001b[1mPredicates:\u001b[0m IsStudent DB_PublishesAbout DB_Teaches DB_Student DB_TenuredTeacher DB_AssistantTeacher Teacher_view DB_Studies DB_ComposesPlan DB_AcademicRecord "
     ]
    }
   ],
   "source": [
    "String logicSchemaString = \"\"\"\n",
    "    %% Schema Logic Constraints\n",
    "    % AcademicRecord reference key to Student\n",
    "    @AcademicRecordFKToStudent :- DB_AcademicRecord(studentName, subject, eval), not(IsStudent(studentName))\n",
    "    IsStudent(studentName) :- DB_Student(studentName, age)\n",
    "                  \n",
    "    % Teacher must be over 18\n",
    "    @TeachersMustBeOver18 :- Teacher_view(name, age), age < 18\n",
    "    Teacher_view(name, age) :- DB_AssistantTeacher(name, age)\n",
    "    Teacher_view(name, age) :- DB_TenuredTeacher(name, age)\n",
    "                    \n",
    "    % A teacher cannot teach himself\n",
    "    @TeacherCannotTeachHimself :- DB_Teaches(teacherName, subject), DB_Studies(studentName, subject), teacherName=studentName\n",
    "    \"\"\";\n",
    "Set<Predicate> extraPredicates = Set.of(\n",
    "    new Predicate(\"DB_ComposesPlan\", 2),\n",
    "    new Predicate(\"DB_PublishesAbout\", 3)\n",
    ");\n",
    "LogicSchema logicSchema = logicSchemaParser.parse(logicSchemaString, extraPredicates);\n",
    "Set<Predicate> logicSchemaPredicates = logicSchema.getAllPredicates();\n",
    "\n",
    "printWithHeader(\"Logic Schema\", logicSchemaPrinter.print(logicSchema));\n",
    "printHeaderInline(\"Predicates\");\n",
    "for (Predicate p : logicSchemaPredicates) System.out.print(logicSchemaPrinter.visit(p) + \" \");"
   ]
  },
  {
   "cell_type": "markdown",
   "id": "82f848b3-e9c1-44b7-b42a-648eca232e9b",
   "metadata": {},
   "source": [
    "### LOGIC SCHEMA OBJECTS MANIPULATION\n",
    "We will focus on constraint `@AcademicRecordFKToStudent`"
   ]
  },
  {
   "cell_type": "code",
   "execution_count": 6,
   "id": "2990c8ba-0baf-4fe0-8443-cfa67e1ef0fb",
   "metadata": {},
   "outputs": [
    {
     "name": "stdout",
     "output_type": "stream",
     "text": [
      "\u001b[1mSelected Logic Constraint:\u001b[0m @AcademicRecordFKToStudent :- DB_AcademicRecord(studentName, subject, eval), not(IsStudent(studentName))\n"
     ]
    }
   ],
   "source": [
    "LogicConstraint selectedConstraint = logicSchema.getLogicConstraintByID(new ConstraintID(\"AcademicRecordFKToStudent\"));\n",
    "printWithHeaderInline(\"Selected Logic Constraint\", logicSchemaPrinter.visit(selectedConstraint));"
   ]
  },
  {
   "cell_type": "markdown",
   "id": "5cc28940-d068-4e9f-90ea-d39d3eed745a",
   "metadata": {},
   "source": [
    "We can check the used variables in the constraint body"
   ]
  },
  {
   "cell_type": "code",
   "execution_count": 7,
   "id": "38bc99b3-e031-470f-b61b-4d7d8fbd7f08",
   "metadata": {},
   "outputs": [
    {
     "name": "stdout",
     "output_type": "stream",
     "text": [
      "\u001b[1mUsed Variables in Body:\u001b[0m studentName subject eval "
     ]
    }
   ],
   "source": [
    "Set<Variable> usedVariables = selectedConstraint.getBody().getUsedVariables();\n",
    "printHeaderInline(\"Used Variables in Body\");\n",
    "for (Variable v : usedVariables) System.out.print(logicSchemaPrinter.visit(v) + \" \");"
   ]
  },
  {
   "cell_type": "markdown",
   "id": "e047f1f4-231a-40a0-916c-3820589910e9",
   "metadata": {},
   "source": [
    "We can select a literal of the constraint"
   ]
  },
  {
   "cell_type": "code",
   "execution_count": 8,
   "id": "8d1550f1-07a8-406d-8a8e-99d17ff39858",
   "metadata": {},
   "outputs": [
    {
     "name": "stdout",
     "output_type": "stream",
     "text": [
      "\u001b[1mSelected Ordinary Literal:\u001b[0m not(IsStudent(studentName))\n",
      "Ordinary Literal is negative: true"
     ]
    },
    {
     "data": {
      "text/plain": [
       "org.assertj.core.api.BooleanAssert@1"
      ]
     },
     "execution_count": 8,
     "metadata": {},
     "output_type": "execute_result"
    }
   ],
   "source": [
    "OrdinaryLiteral olit = (OrdinaryLiteral) selectedConstraint.getBody().get(1);\n",
    "printWithHeaderInline(\"Selected Ordinary Literal\", logicSchemaPrinter.visit(olit));\n",
    "\n",
    "System.out.print(\"Ordinary Literal is negative: \" + olit.isNegative());\n",
    "assertThat(olit.isNegative()).isTrue();"
   ]
  },
  {
   "cell_type": "markdown",
   "id": "faf08214-03da-47e8-b2b5-abe530faf293",
   "metadata": {},
   "source": [
    "The predicate of an ordinary literal can be obtained"
   ]
  },
  {
   "cell_type": "code",
   "execution_count": 9,
   "id": "22dba214-237a-41e7-b11c-29086e2892b0",
   "metadata": {},
   "outputs": [
    {
     "name": "stdout",
     "output_type": "stream",
     "text": [
      "\u001b[1mObtained Predicate:\u001b[0m IsStudent\n",
      "Predicate Literal is base: false\n",
      "Predicate Literal is derived: true\n"
     ]
    },
    {
     "data": {
      "text/plain": [
       "org.assertj.core.api.BooleanAssert@1"
      ]
     },
     "execution_count": 9,
     "metadata": {},
     "output_type": "execute_result"
    }
   ],
   "source": [
    "Predicate olitPredicate = olit.getPredicate();\n",
    "printWithHeaderInline(\"Obtained Predicate\", logicSchemaPrinter.visit(olitPredicate));\n",
    "System.out.println(\"Predicate Literal is base: \" + olitPredicate.isBase());\n",
    "assertThat(olitPredicate.isBase()).isFalse();\n",
    "System.out.println(\"Predicate Literal is derived: \" + olitPredicate.isDerived());\n",
    "assertThat(olitPredicate.isDerived()).isTrue();"
   ]
  },
  {
   "cell_type": "markdown",
   "id": "eae981ff-4c06-45ff-bc4c-ae1201506a47",
   "metadata": {},
   "source": [
    "From a derived predicate we can access it's definition rules"
   ]
  },
  {
   "cell_type": "code",
   "execution_count": 10,
   "id": "a6ee133a-af33-43e9-94bb-69919c59b0c0",
   "metadata": {},
   "outputs": [
    {
     "name": "stdout",
     "output_type": "stream",
     "text": [
      "\u001b[1mPredicate's derivation rules::\u001b[0m IsStudent(studentName) :- DB_Student(studentName, age)"
     ]
    }
   ],
   "source": [
    "List<DerivationRule> derivationRules = olitPredicate.getDerivationRules();\n",
    "printHeaderInline(\"Predicate's derivation rules:\");\n",
    "for (DerivationRule dr : derivationRules) System.out.print(logicSchemaPrinter.visit(dr));"
   ]
  },
  {
   "cell_type": "markdown",
   "id": "7bb38918-3941-4751-973c-2deb834c34b7",
   "metadata": {},
   "source": [
    "### LOGIC SCHEMA PROPERTY CHECKING\n",
    "\n",
    "Other schema property checks can be performed"
   ]
  },
  {
   "cell_type": "code",
   "execution_count": 11,
   "id": "4c1f8ce1-f6b6-4884-a40f-4c7805f9744e",
   "metadata": {},
   "outputs": [
    {
     "name": "stdout",
     "output_type": "stream",
     "text": [
      "Selected Constraint(AcademicRecordFKToStudent) is safe: true\n",
      "Selected Ordinary Literal(not(IsStudent(studentName))) is ground: false\n"
     ]
    },
    {
     "data": {
      "text/plain": [
       "org.assertj.core.api.BooleanAssert@1"
      ]
     },
     "execution_count": 11,
     "metadata": {},
     "output_type": "execute_result"
    }
   ],
   "source": [
    "System.out.println(\"Selected Constraint(\" + selectedConstraint.getID() + \") is safe: \" + selectedConstraint.isSafe());\n",
    "assertThat(selectedConstraint.isSafe()).isTrue();\n",
    "System.out.println(\"Selected Ordinary Literal(\" + logicSchemaPrinter.visit(olit) + \") is ground: \" + olit.isGround());\n",
    "assertThat(olit.isGround()).isFalse();"
   ]
  },
  {
   "cell_type": "markdown",
   "id": "a16dff88-1b6f-40a6-878b-36106059991c",
   "metadata": {},
   "source": [
    "### LOGIC SCHEMA TRANSFORMATIONS\n",
    "\n",
    "Now we will apply a transformation pipeline over the original schema,\n",
    "\n",
    "precisely, applying the `EqualityReplacer`, `SchemaUnfolder` & `SingleDerivationRuleTransformer` processes"
   ]
  },
  {
   "cell_type": "code",
   "execution_count": 12,
   "id": "1731f178-4b49-4296-ba1c-d6f418f4e675",
   "metadata": {},
   "outputs": [
    {
     "name": "stdout",
     "output_type": "stream",
     "text": [
      "\u001b[1mModified schema:\u001b[0m \n",
      "@TeacherCannotTeachHimself :- DB_Teaches(teacherName, subject), DB_Studies(teacherName, subject)\n",
      "@AcademicRecordFKToStudent :- DB_AcademicRecord(studentName, subject, eval), not(IsStudent(studentName))\n",
      "@TeachersMustBeOver18_1 :- DB_AssistantTeacher(name, age), age<18\n",
      "@TeachersMustBeOver18_2 :- DB_TenuredTeacher(name, age), age<18\n",
      "IsStudent(studentName) :- DB_Student(studentName, age)\n",
      "Teacher_view_2(name, age) :- DB_TenuredTeacher(name, age)\n",
      "Teacher_view_1(name, age) :- DB_AssistantTeacher(name, age)\n",
      "\n"
     ]
    }
   ],
   "source": [
    "LogicProcessPipeline pipeline = new LogicProcessPipeline(List.of(\n",
    "        new EqualityReplacer(),\n",
    "        new SchemaUnfolder(false),\n",
    "        new SingleDerivationRuleTransformer()\n",
    "));\n",
    "LogicSchema modifiedLogicSchema = pipeline.execute(logicSchema);\n",
    "printWithHeader(\"Modified schema\", logicSchemaPrinter.print(modifiedLogicSchema));"
   ]
  },
  {
   "cell_type": "markdown",
   "id": "3f2a0cb2-91e2-4fb4-973d-e29a0c76527e",
   "metadata": {},
   "source": [
    "### LOADING DEPENDENCY SCHEMA UTILS & TOOLS"
   ]
  },
  {
   "cell_type": "code",
   "execution_count": 13,
   "id": "48e1e9a0-c676-4b15-bef3-f808704a2495",
   "metadata": {},
   "outputs": [],
   "source": [
    "DependencySchemaParser dependencySchemaParser = new DependencySchemaParser();\n",
    "DependencySchemaPrinter dependencySchemaPrinter = new DependencySchemaPrinter();"
   ]
  },
  {
   "cell_type": "markdown",
   "id": "0b824a41-56b7-473e-92ec-fdd09659c124",
   "metadata": {},
   "source": [
    "### PARSING & PRINTING DEPENDENCY SCHEMA"
   ]
  },
  {
   "cell_type": "code",
   "execution_count": 14,
   "id": "8e3b0f97-d789-4d91-9409-095825eefd80",
   "metadata": {},
   "outputs": [
    {
     "name": "stdout",
     "output_type": "stream",
     "text": [
      "\u001b[1mDependency Schema:\u001b[0m \n",
      "HasPassed(student, subject) -> Exam(teacher, student, subject, data)\n",
      "Teaches(teacher, subject), Studies(student, subject) -> Exam(teacher, student, subject, data)\n",
      "ExpertIn(teacher, subject), ComposesPlan(subject, studyPlan) -> Teaches(teacher, subject)\n",
      "\n",
      "\u001b[1mPredicates:\u001b[0m IsStudent DB_PublishesAbout DB_Teaches DB_Student DB_TenuredTeacher DB_AssistantTeacher Teacher_view DB_Studies DB_ComposesPlan DB_AcademicRecord "
     ]
    }
   ],
   "source": [
    "String dependencySchemaString = \"\"\"\n",
    "    % If a student passes a subject, the student has some evaluation\n",
    "    HasPassed(student, subject) -> Exam(teacher, student, subject, data)\n",
    "                    \n",
    "    % If a teacher teaches a subject a student is coursing, the teacher evaluates the student\n",
    "    Teaches(teacher, subject), Studies(student, subject) -> Exam(teacher, student, subject, data)\n",
    "                    \n",
    "    % If a teacher is expert in a subject from a study plan, the teacher gives the subject\n",
    "    ExpertIn(teacher, subject), ComposesPlan(subject, studyPlan) -> Teaches(teacher, subject)\n",
    "                    \n",
    "    % A subject has, at most, one teacher\n",
    "    % Teaches(teacher1, subject), Teaches(teacher2, subject) -> teacher1=teacher2\n",
    "    \"\"\";\n",
    "DependencySchema dependencySchema = dependencySchemaParser.parse(dependencySchemaString);\n",
    "Set<Predicate> dependencySchemaPredicates = logicSchema.getAllPredicates();\n",
    "\n",
    "printWithHeader(\"Dependency Schema\", dependencySchemaPrinter.print(dependencySchema));\n",
    "printHeaderInline(\"Predicates\");\n",
    "for (Predicate p : dependencySchemaPredicates) System.out.print(logicSchemaPrinter.visit(p) + \" \");"
   ]
  },
  {
   "cell_type": "markdown",
   "id": "d3306d88-b079-4759-a6ae-d0b637404f66",
   "metadata": {},
   "source": [
    "### DEPENDENCY PROPERTY CHECKING"
   ]
  },
  {
   "cell_type": "code",
   "execution_count": 15,
   "id": "aef20e0c-1da6-481e-96e8-5cf67ec0ee29",
   "metadata": {},
   "outputs": [
    {
     "name": "stdout",
     "output_type": "stream",
     "text": [
      "\u001b[1mSelected TGD:\u001b[0m HasPassed(student, subject) -> Exam(teacher, student, subject, data)\n",
      "TGD is linear: true\n",
      "TGD is guarded: true\n"
     ]
    },
    {
     "data": {
      "text/plain": [
       "org.assertj.core.api.BooleanAssert@1"
      ]
     },
     "execution_count": 15,
     "metadata": {},
     "output_type": "execute_result"
    }
   ],
   "source": [
    "TGD tgd = dependencySchema.getAllTGDs().get(0);\n",
    "printWithHeaderInline(\"Selected TGD\", dependencySchemaPrinter.visit(tgd));\n",
    "\n",
    "System.out.println(\"TGD is linear: \" + tgd.isLinear());\n",
    "assertThat(tgd.isLinear()).isTrue();\n",
    "System.out.println(\"TGD is guarded: \" + tgd.isGuarded());\n",
    "assertThat(tgd.isGuarded()).isTrue();"
   ]
  },
  {
   "cell_type": "markdown",
   "id": "6eb481dd-b7ac-46c0-bbf1-725d30fb51d6",
   "metadata": {},
   "source": [
    "### DEPENDENCY SCHEMA PROPERTY CHECKING\n",
    "\n",
    "First, we will check that no EGD is conflicting with the TGDs in the dependency schema"
   ]
  },
  {
   "cell_type": "code",
   "execution_count": 16,
   "id": "05bcd120-e59a-41a0-bd08-bba061d3a360",
   "metadata": {},
   "outputs": [
    {
     "name": "stdout",
     "output_type": "stream",
     "text": [
      "EGDs of schema are non conflicting / separable: true"
     ]
    },
    {
     "data": {
      "text/plain": [
       "org.assertj.core.api.BooleanAssert@1"
      ]
     },
     "execution_count": 16,
     "metadata": {},
     "output_type": "execute_result"
    }
   ],
   "source": [
    "NonConflictingEGDsAnalyzer nonConflictingEGDsAnalyzer = new NonConflictingEGDsAnalyzer();\n",
    "boolean separable = nonConflictingEGDsAnalyzer.areEGDsNonConflictingWithTGDs(dependencySchema);\n",
    "System.out.print(\"EGDs of schema are non conflicting / separable: \" + separable);\n",
    "assertThat(separable).isTrue();"
   ]
  },
  {
   "cell_type": "markdown",
   "id": "8a6518eb-3241-4c82-b03e-9bf67c692cde",
   "metadata": {},
   "source": [
    "We will now analyze which Datalog+/- languages this dependency schema satisfies"
   ]
  },
  {
   "cell_type": "code",
   "execution_count": 17,
   "id": "a5d750b4-1068-4379-b1ea-1f3c614207e2",
   "metadata": {},
   "outputs": [
    {
     "name": "stdout",
     "output_type": "stream",
     "text": [
      "\u001b[1mThis dependency schema is: :\u001b[0m WEAKLY_GUARDED STICKY "
     ]
    }
   ],
   "source": [
    "DatalogPlusMinusAnalyzer analyzer = new DatalogPlusMinusAnalyzer();\n",
    "Set<DatalogPlusMinusAnalyzer.DatalogPlusMinusLanguage> languages = analyzer.getDatalogPlusMinusLanguages(dependencySchema);\n",
    "printHeaderInline(\"This dependency schema is: \");\n",
    "for (DatalogPlusMinusAnalyzer.DatalogPlusMinusLanguage dl : languages) System.out.print(dl.name() + \" \");"
   ]
  },
  {
   "cell_type": "markdown",
   "id": "a039f2b9-23b6-4d5b-861d-8521a0a6b9f3",
   "metadata": {},
   "source": [
    "### REWRITING PROCESS\n",
    "\n",
    "Now let's perform a rewriting of an ontological query.\n",
    "\n",
    "The loaded Logic Schema describes de relational database with with its Logic Constraints and Predicates.\n",
    "\n",
    "The loaded Dependency Schema describes de ontology with its TGDs and ontological predicates.\n",
    "\n",
    "Now, we will parse and load the mapping which links the ontology and relational database as well as the to be rewritten ontological query."
   ]
  },
  {
   "cell_type": "markdown",
   "id": "14ad3268-3cc9-426b-8ec2-f9285bfb465d",
   "metadata": {},
   "source": [
    "The TGDs need to be normalized before the rewriting process. We normalize the dependencySchema."
   ]
  },
  {
   "cell_type": "code",
   "execution_count": 22,
   "id": "462ef3f3-adec-44c7-a56d-9ff4dc20e96b",
   "metadata": {},
   "outputs": [
    {
     "name": "stdout",
     "output_type": "stream",
     "text": [
      "\u001b[1mNormalized Dependency Schema:\u001b[0m \n",
      "HasPassed(student, subject) -> AUX1(student, subject, teacher)\n",
      "AUX1(student, subject, teacher) -> AUX2(student, subject, teacher, data)\n",
      "AUX2(student, subject, teacher, data) -> Exam(teacher, student, subject, data)\n",
      "Teaches(teacher, subject), Studies(student, subject) -> Exam(teacher, student, subject, data)\n",
      "ExpertIn(teacher, subject), ComposesPlan(subject, studyPlan) -> Teaches(teacher, subject)\n",
      "\n",
      "\u001b[1mPredicates:\u001b[0m AUX2 Studies AUX1 HasPassed Teaches ComposesPlan Exam ExpertIn "
     ]
    }
   ],
   "source": [
    "DependencySchema normalizedDependencySchema = new TGDNormalizerProcess().normalize(dependencySchema);\n",
    "Set<Predicate> normalizedDependencySchemaPredicates = normalizedDependencySchema.getAllPredicates();\n",
    "\n",
    "printWithHeader(\"Normalized Dependency Schema\", dependencySchemaPrinter.print(normalizedDependencySchema));\n",
    "printHeaderInline(\"Predicates\");\n",
    "for (Predicate p : normalizedDependencySchemaPredicates) System.out.print(logicSchemaPrinter.visit(p) + \" \");"
   ]
  },
  {
   "cell_type": "markdown",
   "id": "3cb48407-fadb-469e-915e-b00628b692c9",
   "metadata": {},
   "source": [
    "The loaded Logic Schema will provide the mappings between the ontology and the relational tables"
   ]
  },
  {
   "cell_type": "code",
   "execution_count": 44,
   "id": "05a6bd4f-6203-4e7b-99f9-acf086650433",
   "metadata": {},
   "outputs": [],
   "source": [
    "String mappingDBQueriesString = \"\"\"\n",
    "    % HasPassed(student, subject)\n",
    "    (student, subject) :- DB_AcademicRecord(student, subject, mark), mark > 5\n",
    "    \n",
    "    % Exam(teacher, student, subject, data)\n",
    "    (teacher, student, subject, data) :- DB_Exam(teacher, student, subject, data)\n",
    "    \n",
    "    % Teaches(teacher, subject)\n",
    "    (teacher, subject) :- DB_Teaches(teacher, subject)\n",
    "    \n",
    "    % Studies(student, subject)\n",
    "    (student, subject) :- DB_Studies(student, subject)\n",
    "    \n",
    "    % ExpertIn(teacher, subject)\n",
    "    (teacher, subject) :- DB_PublishesAbout(teacher, paper, subject), DB_PublishesAbout(teacher, paper2, subject), paper<>paper2\n",
    "    \n",
    "    % ComposesPlan(subject, studyPlan)\n",
    "    (subject, studyPlan) :- DB_ComposesPlan(subject, studyPlan)\n",
    "    \"\"\";\n",
    "List<Query> mappingDBQueries = queryParser.parse(mappingDBQueriesString, logicSchemaPredicates);\n",
    "OBDAMapping mapping = new OBDAMapping.OBDAMappingBuilder()\n",
    "    .addMapping(normalizedDependencySchema.getPredicateByName(\"HasPassed\"), mappingDBQueries.get(0))\n",
    "    .addMapping(normalizedDependencySchema.getPredicateByName(\"Exam\"), mappingDBQueries.get(1))\n",
    "    .addMapping(normalizedDependencySchema.getPredicateByName(\"Teaches\"), mappingDBQueries.get(2))\n",
    "    .addMapping(normalizedDependencySchema.getPredicateByName(\"Studies\"), mappingDBQueries.get(3))\n",
    "    .addMapping(normalizedDependencySchema.getPredicateByName(\"ExpertIn\"), mappingDBQueries.get(4))\n",
    "    .addMapping(normalizedDependencySchema.getPredicateByName(\"ComposesPlan\"), mappingDBQueries.get(5))\n",
    "    .build();"
   ]
  },
  {
   "cell_type": "markdown",
   "id": "709865f0-97a3-48a8-a809-21f1f4615963",
   "metadata": {},
   "source": [
    "Let's parse the ontological query"
   ]
  },
  {
   "cell_type": "code",
   "execution_count": 45,
   "id": "f5b2be99-03ed-48e0-8607-06f14e4f0f93",
   "metadata": {},
   "outputs": [],
   "source": [
    "String queryString = \"\"\"\n",
    "    % Ontological Query\n",
    "    (student) :- Exam(teacher, student, subject, data)\n",
    "    \"\"\";\n",
    "Query query = queryParser.parse(queryString, normalizedDependencySchemaPredicates).get(0);\n",
    "assertThat(query.isConjunctiveQuery()).isTrue();\n",
    "ConjunctiveQuery ontologicalQuery = (ConjunctiveQuery) query;"
   ]
  },
  {
   "cell_type": "markdown",
   "id": "816aecc5-bce7-4768-9761-193d2173f41d",
   "metadata": {},
   "source": [
    "### APPLYING REWRITING PROCEDURE"
   ]
  },
  {
   "cell_type": "code",
   "execution_count": 46,
   "id": "5523c90b-ab14-4589-a8ee-f7418b78f687",
   "metadata": {},
   "outputs": [],
   "source": [
    "Set<TGD> ontologyTGDs = new HashSet<>(normalizedDependencySchema.getAllTGDs());\n",
    "List<ConjunctiveQuery> rewriting = Rewriter.rewrite(ontologicalQuery, ontologyTGDs);"
   ]
  },
  {
   "cell_type": "markdown",
   "id": "b4ccbe5f-5f23-46b4-8b67-5abb803f81e6",
   "metadata": {},
   "source": [
    "### PRINTING PARTIAL REWRITING"
   ]
  },
  {
   "cell_type": "code",
   "execution_count": 47,
   "id": "412be956-9f7d-44ed-beec-e65088ef805d",
   "metadata": {},
   "outputs": [
    {
     "name": "stdout",
     "output_type": "stream",
     "text": [
      "\u001b[1mQuery 0:\u001b[0m \n",
      "(student) :- Exam(teacher, student, subject, data)\n",
      "\u001b[1mQuery 1:\u001b[0m \n",
      "(student) :- Teaches(teacher, subject), Studies(student, subject)\n",
      "\u001b[1mQuery 2:\u001b[0m \n",
      "(student) :- AUX2(student, subject, teacher, data)\n",
      "\u001b[1mQuery 3:\u001b[0m \n",
      "(student) :- ExpertIn(teacher, subject), ComposesPlan(subject, unfTGD0), Studies(student, subject)\n",
      "\u001b[1mQuery 4:\u001b[0m \n",
      "(student) :- AUX1(student, subject, teacher)\n",
      "\u001b[1mQuery 5:\u001b[0m \n",
      "(student) :- HasPassed(student, subject)\n"
     ]
    }
   ],
   "source": [
    "for (int i = 0; i < rewriting.size(); i++) {\n",
    "    Query queryToPrint = rewriting.get(i);\n",
    "    printWithHeader(\"Query \" + i, queryPrinter.print(queryToPrint));\n",
    "}"
   ]
  },
  {
   "cell_type": "markdown",
   "id": "65f406dd-bf65-4b24-a2a0-3a804aaf1d10",
   "metadata": {},
   "source": [
    "### APPLYING MAPPINGS"
   ]
  },
  {
   "cell_type": "code",
   "execution_count": 48,
   "id": "9ed0e551-e73e-4b61-864a-01d931e92184",
   "metadata": {},
   "outputs": [],
   "source": [
    "List<Query> finalRewriting = rewriting.stream()\n",
    "    .map(mapping::translateToDBQueries)\n",
    "    .flatMap(Collection::stream)\n",
    "    .toList();"
   ]
  },
  {
   "cell_type": "markdown",
   "id": "03adca24-2527-4f7e-b463-db614caa2b6e",
   "metadata": {},
   "source": [
    "### PRINTING REWRITING"
   ]
  },
  {
   "cell_type": "code",
   "execution_count": 49,
   "id": "6b8ab7a2-2d42-4cd1-99fd-5974d1945541",
   "metadata": {},
   "outputs": [
    {
     "name": "stdout",
     "output_type": "stream",
     "text": [
      "\u001b[1mQuery 0:\u001b[0m \n",
      "(student) :- DB_Exam(teacher, student, subject, data)\n",
      "\u001b[1mQuery 1:\u001b[0m \n",
      "(student) :- DB_Teaches(teacher, subject), DB_Studies(student, subject)\n",
      "\u001b[1mQuery 2:\u001b[0m \n",
      "(student) :- DB_PublishesAbout(teacher, paper, subject), DB_PublishesAbout(teacher, paper2, subject), paper<>paper2, DB_ComposesPlan(subject, unfTGD0), DB_Studies(student, subject)\n",
      "\u001b[1mQuery 3:\u001b[0m \n",
      "(student) :- DB_AcademicRecord(student, subject, mark), mark>5\n"
     ]
    }
   ],
   "source": [
    "for (int i = 0; i < finalRewriting.size(); i++) {\n",
    "    Query queryToPrint = finalRewriting.get(i);\n",
    "    printWithHeader(\"Query \" + i, queryPrinter.print(queryToPrint));\n",
    "}"
   ]
  },
  {
   "cell_type": "markdown",
   "id": "0961ba8c-42dd-4236-9456-f62e815c0a3e",
   "metadata": {},
   "source": [
    "### ASSERT REWRITING IS EXPECTED"
   ]
  },
  {
   "cell_type": "code",
   "execution_count": 50,
   "id": "8edd3103-1930-4d36-84a0-aa2f7491a08a",
   "metadata": {},
   "outputs": [
    {
     "data": {
      "text/plain": [
       "org.assertj.core.api.ListAssert@1"
      ]
     },
     "execution_count": 50,
     "metadata": {},
     "output_type": "execute_result"
    }
   ],
   "source": [
    "String expectedRewritingString = \"\"\"\n",
    "    % Expected Rewriting\n",
    "    (student) :- DB_Exam(teacher, student, subject, data)\n",
    "    (student) :- DB_AcademicRecord(student, subject, mark), mark > 5\n",
    "    (student) :- DB_Teaches(teacher, subject), DB_Studies(student, subject)\n",
    "    (student) :- DB_PublishesAbout(teacher, paper, subject), DB_PublishesAbout(teacher, paper2, subject), paper<>paper2, DB_ComposesPlan(subject, studyPlan), DB_Studies(student, subject)\n",
    "    \"\"\";\n",
    "List<Query> expectedRewriting = queryParser.parse(expectedRewritingString, normalizedDependencySchemaPredicates);\n",
    "assertThat(finalRewriting)\n",
    "    .satisfiesOnlyOnce(q -> LogicSchemaAssertions.assertThat(q).isIsomorphicTo(expectedRewriting.get(0)))\n",
    "    .satisfiesOnlyOnce(q -> LogicSchemaAssertions.assertThat(q).isIsomorphicTo(expectedRewriting.get(1)))\n",
    "    .satisfiesOnlyOnce(q -> LogicSchemaAssertions.assertThat(q).isIsomorphicTo(expectedRewriting.get(2)))\n",
    "    .satisfiesOnlyOnce(q -> LogicSchemaAssertions.assertThat(q).isIsomorphicTo(expectedRewriting.get(3)));"
   ]
  },
  {
   "cell_type": "markdown",
   "id": "265e0ce7-1584-4670-b7db-a357f0cbdd1a",
   "metadata": {},
   "source": [
    "## DEMO END"
   ]
  }
 ],
 "metadata": {
  "kernelspec": {
   "display_name": "Java",
   "language": "java",
   "name": "java"
  },
  "language_info": {
   "codemirror_mode": "java",
   "file_extension": ".jshell",
   "mimetype": "text/x-java-source",
   "name": "Java",
   "pygments_lexer": "java",
   "version": "17.0.10+7-Ubuntu-122.04.1"
  }
 },
 "nbformat": 4,
 "nbformat_minor": 5
}
